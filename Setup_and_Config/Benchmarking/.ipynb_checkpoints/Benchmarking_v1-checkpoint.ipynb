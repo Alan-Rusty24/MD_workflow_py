{
 "cells": [
  {
   "cell_type": "markdown",
   "metadata": {},
   "source": [
    "## Benchmarking \n",
    "\n",
    "This notebook reads and plots the data generated from the \n",
    "benchmarking runs found in the file 'raw_benchmark_data'. \n",
    "\n",
    "The aim is to visualize the difference in performance depending \n",
    "on node count and configuration so you can use an optimal setup. \n",
    "\n",
    "You to run a few scripts on Avoca to generate the raw benchmark data. \n"
   ]
  },
  {
   "cell_type": "code",
   "execution_count": 6,
   "metadata": {
    "collapsed": false
   },
   "outputs": [
    {
     "name": "stdout",
     "output_type": "stream",
     "text": [
      "Populating the interactive namespace from numpy and matplotlib\n"
     ]
    },
    {
     "name": "stderr",
     "output_type": "stream",
     "text": [
      "WARNING: pylab import has clobbered these variables: ['pylab']\n",
      "`%matplotlib` prevents importing * from pylab and numpy\n"
     ]
    }
   ],
   "source": [
    "%pylab inline\n",
    "import pylab\n",
    "import numpy as np\n"
   ]
  },
  {
   "cell_type": "code",
   "execution_count": 8,
   "metadata": {
    "collapsed": false
   },
   "outputs": [],
   "source": [
    "# Reading in raw timing data from benchmark runs. \n",
    "# raw data consist of lines:  nodes, ppn, ntpn, and ns/d\n",
    "\n",
    "filename = \"raw_benchmark_data.txt\"\n",
    "data = pylab.loadtxt(filename,delimiter=',')"
   ]
  },
  {
   "cell_type": "code",
   "execution_count": 9,
   "metadata": {
    "collapsed": false
   },
   "outputs": [
    {
     "name": "stdout",
     "output_type": "stream",
     "text": [
      "Raw timing data:\n",
      "nodes,   ppn,   ntpn,  nanosec/day\n",
      "[[  1.      4.     16.      5.954]\n",
      " [  1.      8.      8.      5.901]\n",
      " [  1.     16.      4.      5.847]\n",
      " [  1.     64.      1.      5.531]\n",
      " [  2.      4.     16.     10.343]\n",
      " [  2.      8.      8.     10.312]\n",
      " [  2.     16.      4.     10.32 ]\n",
      " [  2.     64.      1.      9.567]\n",
      " [  4.      1.     64.     18.255]\n",
      " [  4.      8.      8.     17.734]\n",
      " [  4.     16.      4.     17.595]\n",
      " [  4.     64.      1.     15.389]\n",
      " [  8.      1.     64.     23.281]\n",
      " [  8.      4.     16.     23.046]\n",
      " [  8.      8.      8.     23.015]\n",
      " [  8.     16.      4.     22.606]\n",
      " [  8.     64.      1.     20.067]\n",
      " [ 16.      1.     64.     30.974]\n",
      " [ 16.      4.     16.     29.002]\n",
      " [ 16.      8.      8.     30.611]\n",
      " [ 16.     16.      4.     30.566]\n",
      " [ 16.     64.      1.     24.926]\n",
      " [ 32.      4.     16.     35.729]\n",
      " [ 32.      8.      8.     36.452]\n",
      " [ 32.     16.      4.     35.988]\n",
      " [ 32.     64.      1.     32.649]]\n"
     ]
    }
   ],
   "source": [
    "# sort the raw data by the first column (nodes)\n",
    "col = 0 \n",
    "#p = data[np.argsort(data[:,col])]\n",
    "p = data[np.lexsort((data[:,1],data[:,0]))]\n",
    "\n",
    "print \"Raw timing data:\"\n",
    "print \"nodes,   ppn,   ntpn,  nanosec/day\"\n",
    "print p"
   ]
  },
  {
   "cell_type": "code",
   "execution_count": 13,
   "metadata": {
    "collapsed": false
   },
   "outputs": [
    {
     "ename": "TypeError",
     "evalue": "unsupported operand type(s) for /: 'list' and 'int'",
     "output_type": "error",
     "traceback": [
      "\u001b[1;31m---------------------------------------------------------------------------\u001b[0m",
      "\u001b[1;31mTypeError\u001b[0m                                 Traceback (most recent call last)",
      "\u001b[1;32m<ipython-input-13-28c5deb6cd2d>\u001b[0m in \u001b[0;36m<module>\u001b[1;34m()\u001b[0m\n\u001b[0;32m     23\u001b[0m \u001b[0mpylab\u001b[0m\u001b[1;33m.\u001b[0m\u001b[0mxlim\u001b[0m\u001b[1;33m(\u001b[0m\u001b[1;36m0\u001b[0m\u001b[1;33m,\u001b[0m\u001b[1;36m1.2\u001b[0m\u001b[1;33m*\u001b[0m\u001b[0mmaxnodes\u001b[0m\u001b[1;33m)\u001b[0m\u001b[1;33m\u001b[0m\u001b[0m\n\u001b[0;32m     24\u001b[0m \u001b[0mpylab\u001b[0m\u001b[1;33m.\u001b[0m\u001b[0mylim\u001b[0m\u001b[1;33m(\u001b[0m\u001b[1;36m0\u001b[0m\u001b[1;33m,\u001b[0m\u001b[1;36m1.6\u001b[0m\u001b[1;33m*\u001b[0m\u001b[0mmaxns\u001b[0m\u001b[1;33m)\u001b[0m\u001b[1;33m\u001b[0m\u001b[0m\n\u001b[1;32m---> 25\u001b[1;33m \u001b[0mpylab\u001b[0m\u001b[1;33m.\u001b[0m\u001b[0mxticks\u001b[0m\u001b[1;33m(\u001b[0m\u001b[0mnl\u001b[0m\u001b[1;33m/\u001b[0m\u001b[1;36m2\u001b[0m\u001b[1;33m)\u001b[0m\u001b[1;33m\u001b[0m\u001b[0m\n\u001b[0m",
      "\u001b[1;31mTypeError\u001b[0m: unsupported operand type(s) for /: 'list' and 'int'"
     ]
    },
    {
     "data": {
      "image/png": "[encoded data removed]",
      "text/plain": [
       "<matplotlib.figure.Figure at 0x7f1d9cf78d10>"
      ]
     },
     "metadata": {},
     "output_type": "display_data"
    }
   ],
   "source": [
    "# find data ranges:\n",
    "minnodes = p[0,0]\n",
    "minns = p[0,3]/minnodes     # ballpark efficient ns/d /node\n",
    "maxnodes = data[:,0].max()\n",
    "maxns = float(data[:,3].max())\n",
    "\n",
    "nl =[]       # build node list for label\n",
    "n = 1 \n",
    "while (n<=maxnodes) or (n> 64000):\n",
    "    nl.append(n)\n",
    "    n=n*2           \n",
    "\n",
    "for d in p:\n",
    "    pylab.plot( data[:,0], data[:,3],\"ro\")\n",
    "\n",
    "pylab.plot([0,maxnodes],[0,maxnodes*minns],'--', label='linear scaling')    \n",
    "pylab.plot([0,maxnodes],[0,maxnodes*minns*0.80],'-.', label='80% scaling')    \n",
    "pylab.plot([0,maxnodes],[0,maxnodes*minns*0.60],'-..', label='60% scaling')   \n",
    "pylab.legend()\n",
    "pylab.title(\"Benchmarking\")\n",
    "pylab.xlabel(\"Node count\")\n",
    "pylab.ylabel(\"nanosec/day\")\n",
    "pylab.xlim(0,1.2*maxnodes)\n",
    "pylab.ylim(0,1.6*maxns)\n",
    "pylab.xticks(nl/2)"
   ]
  },
  {
   "cell_type": "code",
   "execution_count": null,
   "metadata": {
    "collapsed": true
   },
   "outputs": [],
   "source": []
  },
  {
   "cell_type": "code",
   "execution_count": null,
   "metadata": {
    "collapsed": true
   },
   "outputs": [],
   "source": []
  },
  {
   "cell_type": "code",
   "execution_count": null,
   "metadata": {
    "collapsed": true
   },
   "outputs": [],
   "source": []
  }
 ],
 "metadata": {
  "kernelspec": {
   "display_name": "Python 2",
   "language": "python",
   "name": "python2"
  },
  "language_info": {
   "codemirror_mode": {
    "name": "ipython",
    "version": 2
   },
   "file_extension": ".py",
   "mimetype": "text/x-python",
   "name": "python",
   "nbconvert_exporter": "python",
   "pygments_lexer": "ipython2",
   "version": "2.7.10"
  }
 },
 "nbformat": 4,
 "nbformat_minor": 0
}
