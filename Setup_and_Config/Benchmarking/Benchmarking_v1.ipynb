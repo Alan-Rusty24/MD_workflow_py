{
 "cells": [
  {
   "cell_type": "markdown",
   "metadata": {},
   "source": [
    "### Benchmarking \n",
    "\n",
    "This notebook reads and plots the data generated from the \n",
    "benchmarking runs found in the file 'raw_benchmark_data'. \n",
    "\n",
    "The aim of benchmarking is to optimize the node count and configuration \n",
    "in order to get the compromise between efficiency and speed. Often though \n",
    "more nodes will provide faster speed, it does so at the cost of efficiecy. \n",
    "\n",
    "This notebook will allow you to visualize benchmarking data you generate. \n",
    "You still have to manually set the appropriate node configuration in the \n",
    "master_config_file and populate the directories. \n",
    "\n",
    "To generate representative benchmarking data you first have to run your \n",
    "job to create some input files. \n"
   ]
  },
  {
   "cell_type": "code",
   "execution_count": 14,
   "metadata": {
    "collapsed": false
   },
   "outputs": [
    {
     "name": "stdout",
     "output_type": "stream",
     "text": [
      "Populating the interactive namespace from numpy and matplotlib\n"
     ]
    },
    {
     "name": "stderr",
     "output_type": "stream",
     "text": [
      "WARNING: pylab import has clobbered these variables: ['pylab']\n",
      "`%matplotlib` prevents importing * from pylab and numpy\n"
     ]
    }
   ],
   "source": [
    "%pylab inline\n",
    "import pylab\n",
    "import numpy as np\n"
   ]
  },
  {
   "cell_type": "code",
   "execution_count": 15,
   "metadata": {
    "collapsed": false
   },
   "outputs": [],
   "source": [
    "# Reading in raw timing data from benchmark runs. \n",
    "# raw data consist of lines:  nodes, ppn, ntpn, and ns/d\n",
    "\n",
    "filename = \"raw_benchmark_data.txt\"\n",
    "data = pylab.loadtxt(filename,delimiter=',')"
   ]
  },
  {
   "cell_type": "code",
   "execution_count": 16,
   "metadata": {
    "collapsed": false
   },
   "outputs": [
    {
     "name": "stdout",
     "output_type": "stream",
     "text": [
      "Raw timing data:\n",
      "nodes,   ppn,   ntpn,  nanosec/day\n",
      "[[  1.      4.     16.      5.954]\n",
      " [  1.      8.      8.      5.901]\n",
      " [  1.     16.      4.      5.847]\n",
      " [  1.     64.      1.      5.531]\n",
      " [  2.      4.     16.     10.343]\n",
      " [  2.      8.      8.     10.312]\n",
      " [  2.     16.      4.     10.32 ]\n",
      " [  2.     64.      1.      9.567]\n",
      " [  4.      1.     64.     18.255]\n",
      " [  4.      8.      8.     17.734]\n",
      " [  4.     16.      4.     17.595]\n",
      " [  4.     64.      1.     15.389]\n",
      " [  8.      1.     64.     23.281]\n",
      " [  8.      4.     16.     23.046]\n",
      " [  8.      8.      8.     23.015]\n",
      " [  8.     16.      4.     22.606]\n",
      " [  8.     64.      1.     20.067]\n",
      " [ 16.      1.     64.     30.974]\n",
      " [ 16.      4.     16.     29.002]\n",
      " [ 16.      8.      8.     30.611]\n",
      " [ 16.     16.      4.     30.566]\n",
      " [ 16.     64.      1.     24.926]\n",
      " [ 32.      4.     16.     35.729]\n",
      " [ 32.      8.      8.     36.452]\n",
      " [ 32.     16.      4.     35.988]\n",
      " [ 32.     64.      1.     32.649]]\n"
     ]
    }
   ],
   "source": [
    "# sort the raw data by the first column (nodes)\n",
    "col = 0 \n",
    "#p = data[np.argsort(data[:,col])]\n",
    "p = data[np.lexsort((data[:,1],data[:,0]))]\n",
    "\n",
    "print \"Raw timing data:\"\n",
    "print \"nodes,   ppn,   ntpn,  nanosec/day\"\n",
    "print p"
   ]
  },
  {
   "cell_type": "code",
   "execution_count": 18,
   "metadata": {
    "collapsed": false
   },
   "outputs": [
    {
     "data": {
      "text/plain": [
       "([<matplotlib.axis.XTick at 0x7f1d833db850>,\n",
       "  <matplotlib.axis.XTick at 0x7f1d833db950>,\n",
       "  <matplotlib.axis.XTick at 0x7f1d830f4290>,\n",
       "  <matplotlib.axis.XTick at 0x7f1d830f4890>,\n",
       "  <matplotlib.axis.XTick at 0x7f1d830f4fd0>,\n",
       "  <matplotlib.axis.XTick at 0x7f1d83474750>],\n",
       " <a list of 6 Text xticklabel objects>)"
      ]
     },
     "execution_count": 18,
     "metadata": {},
     "output_type": "execute_result"
    },
    {
     "data": {
      "image/png": "[encoded data removed]",
      "text/plain": [
       "<matplotlib.figure.Figure at 0x7f1d83390910>"
      ]
     },
     "metadata": {},
     "output_type": "display_data"
    }
   ],
   "source": [
    "# find data ranges:\n",
    "minnodes = p[0,0]\n",
    "minns = p[0,3]/minnodes     # ballpark efficient ns/d /node\n",
    "maxnodes = data[:,0].max()\n",
    "maxns = float(data[:,3].max())\n",
    "\n",
    "nl =[]       # build node list for label\n",
    "n = 1 \n",
    "while (n<=maxnodes) or (n> 64000):\n",
    "    nl.append(n)\n",
    "    n=n*2           \n",
    "\n",
    "for d in p:\n",
    "    pylab.plot( data[:,0], data[:,3],\"ro\")\n",
    "\n",
    "pylab.plot([0,maxnodes],[0,maxnodes*minns],'--', label='linear scaling')    \n",
    "pylab.plot([0,maxnodes],[0,maxnodes*minns*0.80],'-.', label='80% scaling')    \n",
    "pylab.plot([0,maxnodes],[0,maxnodes*minns*0.60],'-..', label='60% scaling')   \n",
    "pylab.legend()\n",
    "pylab.title(\"Benchmarking\")\n",
    "pylab.xlabel(\"Node count\")\n",
    "pylab.ylabel(\"nanosec/day\")\n",
    "pylab.xlim(0,1.2*maxnodes)\n",
    "pylab.ylim(0,1.6*maxns)\n",
    "pylab.xticks(nl)"
   ]
  },
  {
   "cell_type": "code",
   "execution_count": null,
   "metadata": {
    "collapsed": true
   },
   "outputs": [],
   "source": []
  },
  {
   "cell_type": "code",
   "execution_count": null,
   "metadata": {
    "collapsed": true
   },
   "outputs": [],
   "source": []
  },
  {
   "cell_type": "code",
   "execution_count": null,
   "metadata": {
    "collapsed": true
   },
   "outputs": [],
   "source": []
  }
 ],
 "metadata": {
  "kernelspec": {
   "display_name": "Python 2",
   "language": "python",
   "name": "python2"
  },
  "language_info": {
   "codemirror_mode": {
    "name": "ipython",
    "version": 2
   },
   "file_extension": ".py",
   "mimetype": "text/x-python",
   "name": "python",
   "nbconvert_exporter": "python",
   "pygments_lexer": "ipython2",
   "version": "2.7.10"
  }
 },
 "nbformat": 4,
 "nbformat_minor": 0
}
